{
 "cells": [
  {
   "cell_type": "markdown",
   "id": "7e4cf3e4-73da-43cc-9683-456751629601",
   "metadata": {},
   "source": [
    "# PRA2 Supplementary Information\n",
    "\n",
    "## Part 2: Playing at Pong\n",
    "\n",
    "Sample code to test the model in `PongNoFrameskip-v4` environment, using the `AtariWrapper` and `frame_stack_v1` wrappers."
   ]
  },
  {
   "cell_type": "code",
   "execution_count": 1,
   "id": "748880db-f011-40c9-8e96-5aa76a493ae3",
   "metadata": {},
   "outputs": [],
   "source": [
    "import warnings\n",
    "warnings.filterwarnings('ignore')\n",
    "\n",
    "num_episodes = 10\n",
    "MODEL_NAME = \"dqn-v1\"\n",
    "ENV_NAME = \"PongNoFrameskip-v4\""
   ]
  },
  {
   "cell_type": "code",
   "execution_count": 2,
   "id": "fe5edcb3-7b9b-47d0-b0c3-d379f5765d51",
   "metadata": {},
   "outputs": [
    {
     "name": "stdout",
     "output_type": "stream",
     "text": [
      "Environment created!\n"
     ]
    },
    {
     "name": "stderr",
     "output_type": "stream",
     "text": [
      "A.L.E: Arcade Learning Environment (version 0.8.1+53f58b7)\n",
      "[Powered by Stella]\n"
     ]
    }
   ],
   "source": [
    "import gymnasium as gym\n",
    "import supersuit as ss\n",
    "import numpy as np\n",
    "\n",
    "env = gym.make(ENV_NAME, render_mode=\"rgb_array\")\n",
    "\n",
    "print(\"Environment created!\")"
   ]
  },
  {
   "cell_type": "code",
   "execution_count": 3,
   "id": "9d4e0bd8-e851-49a4-83fc-c1dea0820a49",
   "metadata": {},
   "outputs": [
    {
     "name": "stdout",
     "output_type": "stream",
     "text": [
      "Environment wrapped!\n"
     ]
    }
   ],
   "source": [
    "from stable_baselines3.common.atari_wrappers import AtariWrapper\n",
    "\n",
    "env = AtariWrapper(env,\n",
    "                   noop_max=30, \n",
    "                   frame_skip=4, \n",
    "                   screen_size=84, \n",
    "                   terminal_on_life_loss=True, \n",
    "                   clip_reward=True, \n",
    "                   action_repeat_probability=0.0)\n",
    "env = ss.frame_stack_v1(env, 4)\n",
    "\n",
    "print(\"Environment wrapped!\")"
   ]
  },
  {
   "cell_type": "code",
   "execution_count": 4,
   "id": "837802d8-6bf6-495f-87d2-a538512e13b6",
   "metadata": {},
   "outputs": [
    {
     "name": "stdout",
     "output_type": "stream",
     "text": [
      "(84, 84, 4)\n",
      "[[[  0   0   0  52]\n",
      "  [  0   0   0  52]\n",
      "  [  0   0   0  52]\n",
      "  ...\n",
      "  [  0   0   0  87]\n",
      "  [  0   0   0  87]\n",
      "  [  0   0   0  87]]\n",
      "\n",
      " [[  0   0   0  87]\n",
      "  [  0   0   0  87]\n",
      "  [  0   0   0  87]\n",
      "  ...\n",
      "  [  0   0   0  87]\n",
      "  [  0   0   0  87]\n",
      "  [  0   0   0  87]]\n",
      "\n",
      " [[  0   0   0  87]\n",
      "  [  0   0   0  87]\n",
      "  [  0   0   0  87]\n",
      "  ...\n",
      "  [  0   0   0  87]\n",
      "  [  0   0   0  87]\n",
      "  [  0   0   0  87]]\n",
      "\n",
      " ...\n",
      "\n",
      " [[  0   0   0 236]\n",
      "  [  0   0   0 236]\n",
      "  [  0   0   0 236]\n",
      "  ...\n",
      "  [  0   0   0 236]\n",
      "  [  0   0   0 236]\n",
      "  [  0   0   0 236]]\n",
      "\n",
      " [[  0   0   0 236]\n",
      "  [  0   0   0 236]\n",
      "  [  0   0   0 236]\n",
      "  ...\n",
      "  [  0   0   0 236]\n",
      "  [  0   0   0 236]\n",
      "  [  0   0   0 236]]\n",
      "\n",
      " [[  0   0   0 236]\n",
      "  [  0   0   0 236]\n",
      "  [  0   0   0 236]\n",
      "  ...\n",
      "  [  0   0   0 236]\n",
      "  [  0   0   0 236]\n",
      "  [  0   0   0 236]]]\n"
     ]
    }
   ],
   "source": [
    "obs, _ = env.reset()\n",
    "\n",
    "print(obs.shape)\n",
    "print(obs)"
   ]
  },
  {
   "cell_type": "code",
   "execution_count": 5,
   "id": "bb635253-9b16-4890-890b-ab145505914f",
   "metadata": {},
   "outputs": [
    {
     "name": "stdout",
     "output_type": "stream",
     "text": [
      "Model 'dqn-v1' loaded!\n"
     ]
    }
   ],
   "source": [
    "from stable_baselines3 import DQN\n",
    "\n",
    "model = DQN.load(\"models/\"+ MODEL_NAME+ \".zip\")\n",
    "\n",
    "print(\"Model '{}' loaded!\".format(MODEL_NAME))"
   ]
  },
  {
   "cell_type": "code",
   "execution_count": 8,
   "id": "78d2108d-d919-4d73-8c44-9834c7378052",
   "metadata": {},
   "outputs": [
    {
     "name": "stdout",
     "output_type": "stream",
     "text": [
      "Episode 1 finished with length = 1652 and reward = 21.0\n",
      "Episode 2 finished with length = 1661 and reward = 20.0\n",
      "Episode 3 finished with length = 1781 and reward = 19.0\n",
      "Episode 4 finished with length = 1645 and reward = 21.0\n",
      "Episode 5 finished with length = 1693 and reward = 20.0\n",
      "Episode 6 finished with length = 1645 and reward = 21.0\n",
      "Episode 7 finished with length = 1633 and reward = 21.0\n",
      "Episode 8 finished with length = 1632 and reward = 21.0\n",
      "Episode 9 finished with length = 1835 and reward = 19.0\n",
      "Episode 10 finished with length = 1668 and reward = 20.0\n",
      "\n",
      "Test reward: 20.3 +- 0.7810 \n",
      "[21.0, 20.0, 19.0, 21.0, 20.0, 21.0, 21.0, 21.0, 19.0, 20.0]\n"
     ]
    }
   ],
   "source": [
    "import time\n",
    "import imageio\n",
    "from PIL import Image\n",
    "import PIL.ImageDraw as ImageDraw\n",
    "\n",
    "rewards_glb = []\n",
    "export_gif = True\n",
    "\n",
    "for i in range(num_episodes):\n",
    "    frames = []\n",
    "    rewards_episode = []\n",
    "    done = False\n",
    "    obs, _ = env.reset()\n",
    "  \n",
    "    while not done:\n",
    "        action, _ = model.predict(obs)\n",
    "        obs, reward, terminated, truncated, info = env.step(action)\n",
    "        done = terminated or truncated\n",
    "        rewards_episode.append(reward)\n",
    "\n",
    "        # render to export gif\n",
    "        if export_gif:\n",
    "            frames.append(env.render())\n",
    "\n",
    "    # debug\n",
    "    print(\"Episode {} finished with length = {} and reward = {}\".format(i+1, len(rewards_episode), sum(rewards_episode)))\n",
    "\n",
    "    rewards_glb.append(sum(rewards_episode))\n",
    "\n",
    "    if export_gif:\n",
    "        # e.g. fps=50 == duration=20 (1000 * 1/50)\n",
    "        imageio.mimwrite(\"./videos/\"+ MODEL_NAME +'_'+ time.strftime('%Y%m%d-%H%M%S') +'.gif', frames, duration=20)\n",
    "\n",
    "print(\"\\nTest reward: {} +- {:.4f} \\n{}\".format(np.mean(rewards_glb), np.std(rewards_glb), rewards_glb))"
   ]
  },
  {
   "cell_type": "code",
   "execution_count": null,
   "id": "7e8e3fa0-67de-4efd-bc9a-cc1c2c010923",
   "metadata": {},
   "outputs": [],
   "source": []
  }
 ],
 "metadata": {
  "kernelspec": {
   "display_name": "Python 3 (ipykernel)",
   "language": "python",
   "name": "python3"
  },
  "language_info": {
   "codemirror_mode": {
    "name": "ipython",
    "version": 3
   },
   "file_extension": ".py",
   "mimetype": "text/x-python",
   "name": "python",
   "nbconvert_exporter": "python",
   "pygments_lexer": "ipython3",
   "version": "3.8.18"
  }
 },
 "nbformat": 4,
 "nbformat_minor": 5
}

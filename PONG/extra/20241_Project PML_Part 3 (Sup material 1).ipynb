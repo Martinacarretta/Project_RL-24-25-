{
 "cells": [
  {
   "cell_type": "markdown",
   "id": "4939acc3-e14f-4e77-8c8b-63ec7176c48a",
   "metadata": {},
   "source": [
    "# PRA2 Supplementary Information\n",
    "\n",
    "## Part 1: Train a model\n",
    "\n",
    "[RL Baselines3 Zoo](https://github.com/DLR-RM/rl-baselines3-zoo) is a training framework for Reinforcement Learning (RL), using [Stable Baselines3](https://github.com/DLR-RM/stable-baselines3).\n",
    "\n",
    "It provides scripts for training, evaluating agents, tuning hyperparameters, plotting results and recording videos.\n",
    "\n",
    "In addition, it includes a collection of tuned hyperparameters for common environments and RL algorithms, and agents trained with those settings."
   ]
  },
  {
   "cell_type": "markdown",
   "id": "b1124e4a-4384-421f-9571-40410295b815",
   "metadata": {},
   "source": [
    "There is a complete explanation at the README document of the repository (https://github.com/DLR-RM/rl-baselines3-zoo), but the simple steps to install it are the following ones:\n",
    "1. Install the Python Package:\n",
    "\n",
    "> pip install rl_zoo3\n",
    "\n",
    "2. Additionally, download the repository to get the source code:\n",
    "\n",
    "> git clone https://github.com/DLR-RM/rl-baselines3-zoo\n",
    "\n",
    "> cd rl-baselines3-zoo"
   ]
  },
  {
   "cell_type": "markdown",
   "id": "96b0cc47-9f0d-47bc-90c9-40dde38cdb73",
   "metadata": {},
   "source": [
    "Then, you can train a model using the scripts in the repository.\n",
    "\n",
    "For instance, to train a DQN in Pong environment (`PongNoFrameskip-v4`) just use:\n",
    "\n",
    "> python train.py --algo dqn --env \"PongNoFrameskip-v4\" --eval-episodes 10 --eval-freq 10000\n",
    "\n",
    "As can be seen, there will be a test evaluation (10 episodes) every 10k train episodes.\n",
    "\n",
    "Extended hyperparameters are loaded from: `./rl-baselines3-zoo/hyperparams/dqn.yml`\n",
    "\n",
    "And the default parameters (optimized for each environment) are:\n",
    "\n",
    "- 'batch_size', 32\n",
    "- 'buffer_size', 100000\n",
    "- 'env_wrapper', stable_baselines3.common.atari_wrappers.AtariWrapper\n",
    "- 'exploration_final_eps', 0.01\n",
    "- 'exploration_fraction', 0.1\n",
    "- 'frame_stack', 4\n",
    "- 'gradient_steps', 1\n",
    "- 'learning_rate', 0.0001\n",
    "- 'learning_starts', 100000\n",
    "- 'n_timesteps', 10000000.0\n",
    "- 'optimize_memory_usage', False\n",
    "- 'policy', 'CnnPolicy'\n",
    "- 'target_update_interval', 1000\n",
    "- 'train_freq', 4\n",
    "\n",
    "<u>Note</u>:\n",
    "- I recommend to use Tensorboard (or any similar application) to check the training evolution.\n",
    "- You can add the Tensorboard information by adding the following parameter at the `train` command:\n",
    "\n",
    "> --tensorboard-log '_directory_name_'\n"
   ]
  },
  {
   "cell_type": "code",
   "execution_count": null,
   "id": "ffa25416-0a9e-42f8-a1ed-f94e8711723d",
   "metadata": {},
   "outputs": [],
   "source": []
  }
 ],
 "metadata": {
  "kernelspec": {
   "display_name": "Python 3 (ipykernel)",
   "language": "python",
   "name": "python3"
  },
  "language_info": {
   "codemirror_mode": {
    "name": "ipython",
    "version": 3
   },
   "file_extension": ".py",
   "mimetype": "text/x-python",
   "name": "python",
   "nbconvert_exporter": "python",
   "pygments_lexer": "ipython3",
   "version": "3.8.18"
  }
 },
 "nbformat": 4,
 "nbformat_minor": 5
}
